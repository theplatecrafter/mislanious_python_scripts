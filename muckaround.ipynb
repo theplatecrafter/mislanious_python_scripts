{
 "cells": [
  {
   "cell_type": "code",
   "execution_count": 1,
   "metadata": {},
   "outputs": [],
   "source": [
    "import numpy as np\n",
    "from PIL import Image\n",
    "import math as m\n",
    "\n",
    "\n",
    "def compare_image(photoOne: str, photoTwo: str, downSamplePercentage: float = 1) -> float:\n",
    "    A = Image.open(photoOne)\n",
    "    A = A.resize((int(A.width * downSamplePercentage),\n",
    "                 int(A.height * downSamplePercentage)))\n",
    "    A = np.array(A).flatten().astype(np.float64)\n",
    "    A -= A.mean()\n",
    "\n",
    "    B = Image.open(photoTwo)\n",
    "    B = B.resize((int(B.width * downSamplePercentage),\n",
    "                 int(B.height * downSamplePercentage)))\n",
    "    B = np.array(B).flatten().astype(np.float64)\n",
    "    B -= B.mean()\n",
    "\n",
    "    bottom = m.sqrt(np.dot(A, A))*m.sqrt(np.dot(B, B))\n",
    "    similarity = np.dot(A, B)/(bottom)\n",
    "\n",
    "    return similarity"
   ]
  },
  {
   "cell_type": "code",
   "execution_count": 4,
   "metadata": {},
   "outputs": [
    {
     "name": "stdout",
     "output_type": "stream",
     "text": [
      "shapes (32640,) and (36,) not aligned: 32640 (dim 0) != 36 (dim 0)\n",
      "shapes (36,) and (32640,) not aligned: 36 (dim 0) != 32640 (dim 0)\n",
      "shapes (32640,) and (36,) not aligned: 32640 (dim 0) != 36 (dim 0)\n",
      "shapes (36,) and (32640,) not aligned: 36 (dim 0) != 32640 (dim 0)\n",
      "shapes (32640,) and (36,) not aligned: 32640 (dim 0) != 36 (dim 0)\n",
      "shapes (36,) and (32640,) not aligned: 36 (dim 0) != 32640 (dim 0)\n",
      "shapes (32640,) and (36,) not aligned: 32640 (dim 0) != 36 (dim 0)\n",
      "shapes (36,) and (32640,) not aligned: 36 (dim 0) != 32640 (dim 0)\n",
      "shapes (32640,) and (36,) not aligned: 32640 (dim 0) != 36 (dim 0)\n",
      "shapes (36,) and (32640,) not aligned: 36 (dim 0) != 32640 (dim 0)\n",
      "shapes (32640,) and (36,) not aligned: 32640 (dim 0) != 36 (dim 0)\n",
      "shapes (36,) and (32640,) not aligned: 36 (dim 0) != 32640 (dim 0)\n",
      "shapes (32640,) and (36,) not aligned: 32640 (dim 0) != 36 (dim 0)\n",
      "shapes (36,) and (32640,) not aligned: 36 (dim 0) != 32640 (dim 0)\n",
      "shapes (32640,) and (36,) not aligned: 32640 (dim 0) != 36 (dim 0)\n",
      "shapes (36,) and (32640,) not aligned: 36 (dim 0) != 32640 (dim 0)\n",
      "shapes (32640,) and (36,) not aligned: 32640 (dim 0) != 36 (dim 0)\n",
      "shapes (36,) and (32640,) not aligned: 36 (dim 0) != 32640 (dim 0)\n",
      "shapes (32640,) and (36,) not aligned: 32640 (dim 0) != 36 (dim 0)\n",
      "shapes (36,) and (32640,) not aligned: 36 (dim 0) != 32640 (dim 0)\n",
      "shapes (32640,) and (36,) not aligned: 32640 (dim 0) != 36 (dim 0)\n",
      "shapes (36,) and (32640,) not aligned: 36 (dim 0) != 32640 (dim 0)\n",
      "shapes (32640,) and (36,) not aligned: 32640 (dim 0) != 36 (dim 0)\n",
      "shapes (36,) and (32640,) not aligned: 36 (dim 0) != 32640 (dim 0)\n",
      "shapes (32640,) and (36,) not aligned: 32640 (dim 0) != 36 (dim 0)\n",
      "shapes (36,) and (32640,) not aligned: 36 (dim 0) != 32640 (dim 0)\n",
      "shapes (32640,) and (36,) not aligned: 32640 (dim 0) != 36 (dim 0)\n",
      "shapes (36,) and (32640,) not aligned: 36 (dim 0) != 32640 (dim 0)\n",
      "shapes (32640,) and (36,) not aligned: 32640 (dim 0) != 36 (dim 0)\n",
      "shapes (36,) and (32640,) not aligned: 36 (dim 0) != 32640 (dim 0)\n",
      "shapes (32640,) and (36,) not aligned: 32640 (dim 0) != 36 (dim 0)\n",
      "shapes (36,) and (32640,) not aligned: 36 (dim 0) != 32640 (dim 0)\n",
      "shapes (32640,) and (36,) not aligned: 32640 (dim 0) != 36 (dim 0)\n",
      "shapes (36,) and (32640,) not aligned: 36 (dim 0) != 32640 (dim 0)\n",
      "shapes (32640,) and (36,) not aligned: 32640 (dim 0) != 36 (dim 0)\n",
      "shapes (36,) and (32640,) not aligned: 36 (dim 0) != 32640 (dim 0)\n",
      "shapes (32640,) and (36,) not aligned: 32640 (dim 0) != 36 (dim 0)\n",
      "shapes (36,) and (32640,) not aligned: 36 (dim 0) != 32640 (dim 0)\n",
      "shapes (32640,) and (36,) not aligned: 32640 (dim 0) != 36 (dim 0)\n",
      "shapes (36,) and (32640,) not aligned: 36 (dim 0) != 32640 (dim 0)\n",
      "shapes (32640,) and (36,) not aligned: 32640 (dim 0) != 36 (dim 0)\n",
      "shapes (36,) and (32640,) not aligned: 36 (dim 0) != 32640 (dim 0)\n",
      "shapes (32640,) and (36,) not aligned: 32640 (dim 0) != 36 (dim 0)\n",
      "shapes (36,) and (32640,) not aligned: 36 (dim 0) != 32640 (dim 0)\n",
      "shapes (32640,) and (36,) not aligned: 32640 (dim 0) != 36 (dim 0)\n",
      "shapes (36,) and (32640,) not aligned: 36 (dim 0) != 32640 (dim 0)\n",
      "shapes (32640,) and (36,) not aligned: 32640 (dim 0) != 36 (dim 0)\n",
      "shapes (36,) and (32640,) not aligned: 36 (dim 0) != 32640 (dim 0)\n",
      "shapes (32640,) and (36,) not aligned: 32640 (dim 0) != 36 (dim 0)\n",
      "shapes (36,) and (32640,) not aligned: 36 (dim 0) != 32640 (dim 0)\n",
      "shapes (32640,) and (36,) not aligned: 32640 (dim 0) != 36 (dim 0)\n",
      "shapes (36,) and (32640,) not aligned: 36 (dim 0) != 32640 (dim 0)\n",
      "shapes (32640,) and (36,) not aligned: 32640 (dim 0) != 36 (dim 0)\n",
      "shapes (36,) and (32640,) not aligned: 36 (dim 0) != 32640 (dim 0)\n",
      "shapes (32640,) and (36,) not aligned: 32640 (dim 0) != 36 (dim 0)\n",
      "shapes (36,) and (32640,) not aligned: 36 (dim 0) != 32640 (dim 0)\n",
      "shapes (32640,) and (36,) not aligned: 32640 (dim 0) != 36 (dim 0)\n",
      "shapes (36,) and (32640,) not aligned: 36 (dim 0) != 32640 (dim 0)\n",
      "shapes (32640,) and (36,) not aligned: 32640 (dim 0) != 36 (dim 0)\n",
      "shapes (36,) and (32640,) not aligned: 36 (dim 0) != 32640 (dim 0)\n",
      "shapes (32640,) and (36,) not aligned: 32640 (dim 0) != 36 (dim 0)\n",
      "shapes (36,) and (32640,) not aligned: 36 (dim 0) != 32640 (dim 0)\n",
      "shapes (32640,) and (36,) not aligned: 32640 (dim 0) != 36 (dim 0)\n",
      "shapes (36,) and (32640,) not aligned: 36 (dim 0) != 32640 (dim 0)\n",
      "shapes (32640,) and (36,) not aligned: 32640 (dim 0) != 36 (dim 0)\n",
      "shapes (36,) and (32640,) not aligned: 36 (dim 0) != 32640 (dim 0)\n",
      "shapes (32640,) and (36,) not aligned: 32640 (dim 0) != 36 (dim 0)\n",
      "shapes (36,) and (32640,) not aligned: 36 (dim 0) != 32640 (dim 0)\n",
      "shapes (32640,) and (36,) not aligned: 32640 (dim 0) != 36 (dim 0)\n",
      "shapes (36,) and (32640,) not aligned: 36 (dim 0) != 32640 (dim 0)\n",
      "shapes (32640,) and (36,) not aligned: 32640 (dim 0) != 36 (dim 0)\n",
      "shapes (36,) and (32640,) not aligned: 36 (dim 0) != 32640 (dim 0)\n",
      "shapes (32640,) and (36,) not aligned: 32640 (dim 0) != 36 (dim 0)\n",
      "shapes (36,) and (32640,) not aligned: 36 (dim 0) != 32640 (dim 0)\n",
      "shapes (32640,) and (36,) not aligned: 32640 (dim 0) != 36 (dim 0)\n",
      "shapes (36,) and (32640,) not aligned: 36 (dim 0) != 32640 (dim 0)\n",
      "shapes (32640,) and (36,) not aligned: 32640 (dim 0) != 36 (dim 0)\n",
      "shapes (36,) and (32640,) not aligned: 36 (dim 0) != 32640 (dim 0)\n",
      "shapes (32640,) and (36,) not aligned: 32640 (dim 0) != 36 (dim 0)\n",
      "shapes (36,) and (32640,) not aligned: 36 (dim 0) != 32640 (dim 0)\n",
      "shapes (32640,) and (36,) not aligned: 32640 (dim 0) != 36 (dim 0)\n",
      "shapes (36,) and (32640,) not aligned: 36 (dim 0) != 32640 (dim 0)\n",
      "shapes (32640,) and (36,) not aligned: 32640 (dim 0) != 36 (dim 0)\n",
      "shapes (36,) and (32640,) not aligned: 36 (dim 0) != 32640 (dim 0)\n",
      "shapes (32640,) and (36,) not aligned: 32640 (dim 0) != 36 (dim 0)\n",
      "shapes (36,) and (32640,) not aligned: 36 (dim 0) != 32640 (dim 0)\n",
      "shapes (32640,) and (36,) not aligned: 32640 (dim 0) != 36 (dim 0)\n",
      "shapes (36,) and (32640,) not aligned: 36 (dim 0) != 32640 (dim 0)\n",
      "shapes (32640,) and (36,) not aligned: 32640 (dim 0) != 36 (dim 0)\n",
      "shapes (36,) and (32640,) not aligned: 36 (dim 0) != 32640 (dim 0)\n",
      "shapes (32640,) and (36,) not aligned: 32640 (dim 0) != 36 (dim 0)\n",
      "shapes (36,) and (32640,) not aligned: 36 (dim 0) != 32640 (dim 0)\n",
      "shapes (32640,) and (36,) not aligned: 32640 (dim 0) != 36 (dim 0)\n",
      "shapes (36,) and (32640,) not aligned: 36 (dim 0) != 32640 (dim 0)\n",
      "shapes (32640,) and (36,) not aligned: 32640 (dim 0) != 36 (dim 0)\n",
      "shapes (36,) and (32640,) not aligned: 36 (dim 0) != 32640 (dim 0)\n",
      "shapes (32640,) and (36,) not aligned: 32640 (dim 0) != 36 (dim 0)\n",
      "shapes (36,) and (32640,) not aligned: 36 (dim 0) != 32640 (dim 0)\n",
      "shapes (32640,) and (36,) not aligned: 32640 (dim 0) != 36 (dim 0)\n",
      "shapes (36,) and (32640,) not aligned: 36 (dim 0) != 32640 (dim 0)\n",
      "shapes (32640,) and (36,) not aligned: 32640 (dim 0) != 36 (dim 0)\n",
      "shapes (36,) and (32640,) not aligned: 36 (dim 0) != 32640 (dim 0)\n",
      "shapes (32640,) and (36,) not aligned: 32640 (dim 0) != 36 (dim 0)\n",
      "shapes (36,) and (32640,) not aligned: 36 (dim 0) != 32640 (dim 0)\n",
      "shapes (32640,) and (36,) not aligned: 32640 (dim 0) != 36 (dim 0)\n",
      "shapes (36,) and (32640,) not aligned: 36 (dim 0) != 32640 (dim 0)\n",
      "shapes (32640,) and (36,) not aligned: 32640 (dim 0) != 36 (dim 0)\n",
      "shapes (36,) and (32640,) not aligned: 36 (dim 0) != 32640 (dim 0)\n",
      "shapes (32640,) and (36,) not aligned: 32640 (dim 0) != 36 (dim 0)\n",
      "shapes (36,) and (32640,) not aligned: 36 (dim 0) != 32640 (dim 0)\n",
      "shapes (32640,) and (36,) not aligned: 32640 (dim 0) != 36 (dim 0)\n",
      "shapes (36,) and (32640,) not aligned: 36 (dim 0) != 32640 (dim 0)\n",
      "shapes (32640,) and (36,) not aligned: 32640 (dim 0) != 36 (dim 0)\n",
      "shapes (36,) and (32640,) not aligned: 36 (dim 0) != 32640 (dim 0)\n",
      "shapes (32640,) and (36,) not aligned: 32640 (dim 0) != 36 (dim 0)\n",
      "shapes (36,) and (32640,) not aligned: 36 (dim 0) != 32640 (dim 0)\n",
      "shapes (32640,) and (36,) not aligned: 32640 (dim 0) != 36 (dim 0)\n",
      "shapes (36,) and (32640,) not aligned: 36 (dim 0) != 32640 (dim 0)\n",
      "shapes (32640,) and (36,) not aligned: 32640 (dim 0) != 36 (dim 0)\n",
      "shapes (36,) and (32640,) not aligned: 36 (dim 0) != 32640 (dim 0)\n",
      "shapes (32640,) and (36,) not aligned: 32640 (dim 0) != 36 (dim 0)\n",
      "shapes (36,) and (32640,) not aligned: 36 (dim 0) != 32640 (dim 0)\n",
      "shapes (32640,) and (36,) not aligned: 32640 (dim 0) != 36 (dim 0)\n",
      "shapes (36,) and (32640,) not aligned: 36 (dim 0) != 32640 (dim 0)\n",
      "shapes (32640,) and (36,) not aligned: 32640 (dim 0) != 36 (dim 0)\n",
      "shapes (36,) and (32640,) not aligned: 36 (dim 0) != 32640 (dim 0)\n",
      "shapes (32640,) and (36,) not aligned: 32640 (dim 0) != 36 (dim 0)\n",
      "shapes (36,) and (32640,) not aligned: 36 (dim 0) != 32640 (dim 0)\n",
      "shapes (32640,) and (36,) not aligned: 32640 (dim 0) != 36 (dim 0)\n",
      "shapes (36,) and (32640,) not aligned: 36 (dim 0) != 32640 (dim 0)\n",
      "shapes (32640,) and (36,) not aligned: 32640 (dim 0) != 36 (dim 0)\n",
      "shapes (36,) and (32640,) not aligned: 36 (dim 0) != 32640 (dim 0)\n"
     ]
    },
    {
     "ename": "KeyboardInterrupt",
     "evalue": "",
     "output_type": "error",
     "traceback": [
      "\u001b[0;31m---------------------------------------------------------------------------\u001b[0m",
      "\u001b[0;31mKeyboardInterrupt\u001b[0m                         Traceback (most recent call last)",
      "Cell \u001b[0;32mIn[4], line 21\u001b[0m\n\u001b[1;32m     19\u001b[0m image2 \u001b[38;5;241m=\u001b[39m os\u001b[38;5;241m.\u001b[39mpath\u001b[38;5;241m.\u001b[39mjoin(root,files[i\u001b[38;5;241m+\u001b[39m\u001b[38;5;241m1\u001b[39m])\n\u001b[1;32m     20\u001b[0m \u001b[38;5;28;01mtry\u001b[39;00m:\n\u001b[0;32m---> 21\u001b[0m   score \u001b[38;5;241m=\u001b[39m \u001b[43mcompare_image\u001b[49m\u001b[43m(\u001b[49m\u001b[43mimage1\u001b[49m\u001b[43m,\u001b[49m\u001b[43mimage2\u001b[49m\u001b[43m,\u001b[49m\u001b[38;5;241;43m0.03\u001b[39;49m\u001b[43m)\u001b[49m\n\u001b[1;32m     22\u001b[0m \u001b[38;5;28;01mexcept\u001b[39;00m \u001b[38;5;167;01mException\u001b[39;00m \u001b[38;5;28;01mas\u001b[39;00m e:\n\u001b[1;32m     23\u001b[0m   \u001b[38;5;28mprint\u001b[39m(e)\n",
      "Cell \u001b[0;32mIn[1], line 8\u001b[0m, in \u001b[0;36mcompare_image\u001b[0;34m(photoOne, photoTwo, downSamplePercentage)\u001b[0m\n\u001b[1;32m      6\u001b[0m \u001b[38;5;28;01mdef\u001b[39;00m \u001b[38;5;21mcompare_image\u001b[39m(photoOne: \u001b[38;5;28mstr\u001b[39m, photoTwo: \u001b[38;5;28mstr\u001b[39m, downSamplePercentage: \u001b[38;5;28mfloat\u001b[39m \u001b[38;5;241m=\u001b[39m \u001b[38;5;241m1\u001b[39m) \u001b[38;5;241m-\u001b[39m\u001b[38;5;241m>\u001b[39m \u001b[38;5;28mfloat\u001b[39m:\n\u001b[1;32m      7\u001b[0m     A \u001b[38;5;241m=\u001b[39m Image\u001b[38;5;241m.\u001b[39mopen(photoOne)\n\u001b[0;32m----> 8\u001b[0m     A \u001b[38;5;241m=\u001b[39m \u001b[43mA\u001b[49m\u001b[38;5;241;43m.\u001b[39;49m\u001b[43mresize\u001b[49m\u001b[43m(\u001b[49m\u001b[43m(\u001b[49m\u001b[38;5;28;43mint\u001b[39;49m\u001b[43m(\u001b[49m\u001b[43mA\u001b[49m\u001b[38;5;241;43m.\u001b[39;49m\u001b[43mwidth\u001b[49m\u001b[43m \u001b[49m\u001b[38;5;241;43m*\u001b[39;49m\u001b[43m \u001b[49m\u001b[43mdownSamplePercentage\u001b[49m\u001b[43m)\u001b[49m\u001b[43m,\u001b[49m\n\u001b[1;32m      9\u001b[0m \u001b[43m                 \u001b[49m\u001b[38;5;28;43mint\u001b[39;49m\u001b[43m(\u001b[49m\u001b[43mA\u001b[49m\u001b[38;5;241;43m.\u001b[39;49m\u001b[43mheight\u001b[49m\u001b[43m \u001b[49m\u001b[38;5;241;43m*\u001b[39;49m\u001b[43m \u001b[49m\u001b[43mdownSamplePercentage\u001b[49m\u001b[43m)\u001b[49m\u001b[43m)\u001b[49m\u001b[43m)\u001b[49m\n\u001b[1;32m     10\u001b[0m     A \u001b[38;5;241m=\u001b[39m np\u001b[38;5;241m.\u001b[39marray(A)\u001b[38;5;241m.\u001b[39mflatten()\u001b[38;5;241m.\u001b[39mastype(np\u001b[38;5;241m.\u001b[39mfloat64)\n\u001b[1;32m     11\u001b[0m     A \u001b[38;5;241m-\u001b[39m\u001b[38;5;241m=\u001b[39m A\u001b[38;5;241m.\u001b[39mmean()\n",
      "File \u001b[0;32m~/projects/mislanious_python_scripts/.venv/lib/python3.10/site-packages/PIL/Image.py:2185\u001b[0m, in \u001b[0;36mImage.resize\u001b[0;34m(self, size, resample, box, reducing_gap)\u001b[0m\n\u001b[1;32m   2181\u001b[0m     \u001b[38;5;28;01mraise\u001b[39;00m \u001b[38;5;167;01mValueError\u001b[39;00m(msg)\n\u001b[1;32m   2183\u001b[0m size \u001b[38;5;241m=\u001b[39m \u001b[38;5;28mtuple\u001b[39m(size)\n\u001b[0;32m-> 2185\u001b[0m \u001b[38;5;28;43mself\u001b[39;49m\u001b[38;5;241;43m.\u001b[39;49m\u001b[43mload\u001b[49m\u001b[43m(\u001b[49m\u001b[43m)\u001b[49m\n\u001b[1;32m   2186\u001b[0m \u001b[38;5;28;01mif\u001b[39;00m box \u001b[38;5;129;01mis\u001b[39;00m \u001b[38;5;28;01mNone\u001b[39;00m:\n\u001b[1;32m   2187\u001b[0m     box \u001b[38;5;241m=\u001b[39m (\u001b[38;5;241m0\u001b[39m, \u001b[38;5;241m0\u001b[39m) \u001b[38;5;241m+\u001b[39m \u001b[38;5;28mself\u001b[39m\u001b[38;5;241m.\u001b[39msize\n",
      "File \u001b[0;32m~/projects/mislanious_python_scripts/.venv/lib/python3.10/site-packages/PIL/ImageFile.py:291\u001b[0m, in \u001b[0;36mImageFile.load\u001b[0;34m(self)\u001b[0m\n\u001b[1;32m    288\u001b[0m         \u001b[38;5;28;01mraise\u001b[39;00m \u001b[38;5;167;01mOSError\u001b[39;00m(msg)\n\u001b[1;32m    290\u001b[0m b \u001b[38;5;241m=\u001b[39m b \u001b[38;5;241m+\u001b[39m s\n\u001b[0;32m--> 291\u001b[0m n, err_code \u001b[38;5;241m=\u001b[39m \u001b[43mdecoder\u001b[49m\u001b[38;5;241;43m.\u001b[39;49m\u001b[43mdecode\u001b[49m\u001b[43m(\u001b[49m\u001b[43mb\u001b[49m\u001b[43m)\u001b[49m\n\u001b[1;32m    292\u001b[0m \u001b[38;5;28;01mif\u001b[39;00m n \u001b[38;5;241m<\u001b[39m \u001b[38;5;241m0\u001b[39m:\n\u001b[1;32m    293\u001b[0m     \u001b[38;5;28;01mbreak\u001b[39;00m\n",
      "\u001b[0;31mKeyboardInterrupt\u001b[0m: "
     ]
    }
   ],
   "source": [
    "import os\n",
    "from glob import glob\n",
    "import pandas as pd\n",
    "\n",
    "scores = []\n",
    "fileA = []\n",
    "fileB = []\n",
    "\n",
    "# Specify the directory path\n",
    "directory = '/media/hans/NIKON D90/DCIM/429NCD90'\n",
    "\n",
    "# Walk through the directory\n",
    "for folder in glob(directory):\n",
    "  for root, dirs, files in os.walk(folder):\n",
    "    files.sort()\n",
    "    files = [file for file in files if file.lower().endswith(\".jpg\")]\n",
    "    for i in range(len(files)-1):\n",
    "      # Process each file\n",
    "      image1 = os.path.join(root,files[i])\n",
    "      image2 = os.path.join(root,files[i+1])\n",
    "      try:\n",
    "        score = compare_image(image1,image2,0.03)\n",
    "      except Exception as e:\n",
    "        print(e)\n",
    "        continue\n",
    "      print(f\"compared {image1} and {image2}. Score: {score}\")\n",
    "      scores.append(score)\n",
    "      fileA.append(image1)\n",
    "      fileB.append(image2)\n",
    "\n",
    "df = pd.DataFrame({\"scores\":scores,\"fileA\":fileA,\"fileB\":fileB})\n",
    "df.to_csv(\"./output.csv\")\n"
   ]
  },
  {
   "cell_type": "code",
   "execution_count": 3,
   "metadata": {},
   "outputs": [
    {
     "data": {
      "application/vnd.plotly.v1+json": {
       "config": {
        "plotlyServerURL": "https://plot.ly"
       },
       "data": [
        {
         "alignmentgroup": "True",
         "bingroup": "x",
         "hovertemplate": "scores=%{x}<br>count=%{y}<extra></extra>",
         "legendgroup": "",
         "marker": {
          "color": "#636efa",
          "pattern": {
           "shape": ""
          }
         },
         "name": "",
         "offsetgroup": "",
         "orientation": "v",
         "showlegend": false,
         "type": "histogram",
         "x": [
          0.9726121203482703,
          0.6005822535155186,
          0.597415861285699,
          0.08439451813181795,
          0.3233758919282353,
          0.012272224919060151,
          0.16445363762959309,
          0.8588996620782752,
          0.5291920021921532,
          0.48791895306246513,
          0.12134405736560407,
          0.5189900473916708,
          0.7054745213387751,
          0.23110129626768094,
          0.748894195037426,
          0.8395667070032005,
          0.8608613914415023,
          0.4633652340249674,
          0.9338516591041237,
          0.6684732806224488,
          0.5156881559121957,
          0.8610395986371814,
          0.03716038052802092,
          0.03269264872009958,
          0.211130283581055,
          0.8924875637718286,
          0.8612042718408921,
          0.7624748011672908,
          0.7228808746047188,
          0.3026299766344812,
          0.6809795001381227,
          0.9610808189730908,
          0.8878021213925339,
          0.5130412439924141,
          0.9069880506987678,
          -0.16004390319783132,
          0.9876443083924837,
          0.9388783000020303,
          0.1425371245487271,
          0.08718336321791083,
          0.7500863261564003,
          0.7135423387722524,
          0.7749793583890706
         ],
         "xaxis": "x",
         "yaxis": "y"
        }
       ],
       "layout": {
        "barmode": "relative",
        "legend": {
         "tracegroupgap": 0
        },
        "margin": {
         "t": 60
        },
        "template": {
         "data": {
          "bar": [
           {
            "error_x": {
             "color": "#2a3f5f"
            },
            "error_y": {
             "color": "#2a3f5f"
            },
            "marker": {
             "line": {
              "color": "#E5ECF6",
              "width": 0.5
             },
             "pattern": {
              "fillmode": "overlay",
              "size": 10,
              "solidity": 0.2
             }
            },
            "type": "bar"
           }
          ],
          "barpolar": [
           {
            "marker": {
             "line": {
              "color": "#E5ECF6",
              "width": 0.5
             },
             "pattern": {
              "fillmode": "overlay",
              "size": 10,
              "solidity": 0.2
             }
            },
            "type": "barpolar"
           }
          ],
          "carpet": [
           {
            "aaxis": {
             "endlinecolor": "#2a3f5f",
             "gridcolor": "white",
             "linecolor": "white",
             "minorgridcolor": "white",
             "startlinecolor": "#2a3f5f"
            },
            "baxis": {
             "endlinecolor": "#2a3f5f",
             "gridcolor": "white",
             "linecolor": "white",
             "minorgridcolor": "white",
             "startlinecolor": "#2a3f5f"
            },
            "type": "carpet"
           }
          ],
          "choropleth": [
           {
            "colorbar": {
             "outlinewidth": 0,
             "ticks": ""
            },
            "type": "choropleth"
           }
          ],
          "contour": [
           {
            "colorbar": {
             "outlinewidth": 0,
             "ticks": ""
            },
            "colorscale": [
             [
              0,
              "#0d0887"
             ],
             [
              0.1111111111111111,
              "#46039f"
             ],
             [
              0.2222222222222222,
              "#7201a8"
             ],
             [
              0.3333333333333333,
              "#9c179e"
             ],
             [
              0.4444444444444444,
              "#bd3786"
             ],
             [
              0.5555555555555556,
              "#d8576b"
             ],
             [
              0.6666666666666666,
              "#ed7953"
             ],
             [
              0.7777777777777778,
              "#fb9f3a"
             ],
             [
              0.8888888888888888,
              "#fdca26"
             ],
             [
              1,
              "#f0f921"
             ]
            ],
            "type": "contour"
           }
          ],
          "contourcarpet": [
           {
            "colorbar": {
             "outlinewidth": 0,
             "ticks": ""
            },
            "type": "contourcarpet"
           }
          ],
          "heatmap": [
           {
            "colorbar": {
             "outlinewidth": 0,
             "ticks": ""
            },
            "colorscale": [
             [
              0,
              "#0d0887"
             ],
             [
              0.1111111111111111,
              "#46039f"
             ],
             [
              0.2222222222222222,
              "#7201a8"
             ],
             [
              0.3333333333333333,
              "#9c179e"
             ],
             [
              0.4444444444444444,
              "#bd3786"
             ],
             [
              0.5555555555555556,
              "#d8576b"
             ],
             [
              0.6666666666666666,
              "#ed7953"
             ],
             [
              0.7777777777777778,
              "#fb9f3a"
             ],
             [
              0.8888888888888888,
              "#fdca26"
             ],
             [
              1,
              "#f0f921"
             ]
            ],
            "type": "heatmap"
           }
          ],
          "heatmapgl": [
           {
            "colorbar": {
             "outlinewidth": 0,
             "ticks": ""
            },
            "colorscale": [
             [
              0,
              "#0d0887"
             ],
             [
              0.1111111111111111,
              "#46039f"
             ],
             [
              0.2222222222222222,
              "#7201a8"
             ],
             [
              0.3333333333333333,
              "#9c179e"
             ],
             [
              0.4444444444444444,
              "#bd3786"
             ],
             [
              0.5555555555555556,
              "#d8576b"
             ],
             [
              0.6666666666666666,
              "#ed7953"
             ],
             [
              0.7777777777777778,
              "#fb9f3a"
             ],
             [
              0.8888888888888888,
              "#fdca26"
             ],
             [
              1,
              "#f0f921"
             ]
            ],
            "type": "heatmapgl"
           }
          ],
          "histogram": [
           {
            "marker": {
             "pattern": {
              "fillmode": "overlay",
              "size": 10,
              "solidity": 0.2
             }
            },
            "type": "histogram"
           }
          ],
          "histogram2d": [
           {
            "colorbar": {
             "outlinewidth": 0,
             "ticks": ""
            },
            "colorscale": [
             [
              0,
              "#0d0887"
             ],
             [
              0.1111111111111111,
              "#46039f"
             ],
             [
              0.2222222222222222,
              "#7201a8"
             ],
             [
              0.3333333333333333,
              "#9c179e"
             ],
             [
              0.4444444444444444,
              "#bd3786"
             ],
             [
              0.5555555555555556,
              "#d8576b"
             ],
             [
              0.6666666666666666,
              "#ed7953"
             ],
             [
              0.7777777777777778,
              "#fb9f3a"
             ],
             [
              0.8888888888888888,
              "#fdca26"
             ],
             [
              1,
              "#f0f921"
             ]
            ],
            "type": "histogram2d"
           }
          ],
          "histogram2dcontour": [
           {
            "colorbar": {
             "outlinewidth": 0,
             "ticks": ""
            },
            "colorscale": [
             [
              0,
              "#0d0887"
             ],
             [
              0.1111111111111111,
              "#46039f"
             ],
             [
              0.2222222222222222,
              "#7201a8"
             ],
             [
              0.3333333333333333,
              "#9c179e"
             ],
             [
              0.4444444444444444,
              "#bd3786"
             ],
             [
              0.5555555555555556,
              "#d8576b"
             ],
             [
              0.6666666666666666,
              "#ed7953"
             ],
             [
              0.7777777777777778,
              "#fb9f3a"
             ],
             [
              0.8888888888888888,
              "#fdca26"
             ],
             [
              1,
              "#f0f921"
             ]
            ],
            "type": "histogram2dcontour"
           }
          ],
          "mesh3d": [
           {
            "colorbar": {
             "outlinewidth": 0,
             "ticks": ""
            },
            "type": "mesh3d"
           }
          ],
          "parcoords": [
           {
            "line": {
             "colorbar": {
              "outlinewidth": 0,
              "ticks": ""
             }
            },
            "type": "parcoords"
           }
          ],
          "pie": [
           {
            "automargin": true,
            "type": "pie"
           }
          ],
          "scatter": [
           {
            "fillpattern": {
             "fillmode": "overlay",
             "size": 10,
             "solidity": 0.2
            },
            "type": "scatter"
           }
          ],
          "scatter3d": [
           {
            "line": {
             "colorbar": {
              "outlinewidth": 0,
              "ticks": ""
             }
            },
            "marker": {
             "colorbar": {
              "outlinewidth": 0,
              "ticks": ""
             }
            },
            "type": "scatter3d"
           }
          ],
          "scattercarpet": [
           {
            "marker": {
             "colorbar": {
              "outlinewidth": 0,
              "ticks": ""
             }
            },
            "type": "scattercarpet"
           }
          ],
          "scattergeo": [
           {
            "marker": {
             "colorbar": {
              "outlinewidth": 0,
              "ticks": ""
             }
            },
            "type": "scattergeo"
           }
          ],
          "scattergl": [
           {
            "marker": {
             "colorbar": {
              "outlinewidth": 0,
              "ticks": ""
             }
            },
            "type": "scattergl"
           }
          ],
          "scattermapbox": [
           {
            "marker": {
             "colorbar": {
              "outlinewidth": 0,
              "ticks": ""
             }
            },
            "type": "scattermapbox"
           }
          ],
          "scatterpolar": [
           {
            "marker": {
             "colorbar": {
              "outlinewidth": 0,
              "ticks": ""
             }
            },
            "type": "scatterpolar"
           }
          ],
          "scatterpolargl": [
           {
            "marker": {
             "colorbar": {
              "outlinewidth": 0,
              "ticks": ""
             }
            },
            "type": "scatterpolargl"
           }
          ],
          "scatterternary": [
           {
            "marker": {
             "colorbar": {
              "outlinewidth": 0,
              "ticks": ""
             }
            },
            "type": "scatterternary"
           }
          ],
          "surface": [
           {
            "colorbar": {
             "outlinewidth": 0,
             "ticks": ""
            },
            "colorscale": [
             [
              0,
              "#0d0887"
             ],
             [
              0.1111111111111111,
              "#46039f"
             ],
             [
              0.2222222222222222,
              "#7201a8"
             ],
             [
              0.3333333333333333,
              "#9c179e"
             ],
             [
              0.4444444444444444,
              "#bd3786"
             ],
             [
              0.5555555555555556,
              "#d8576b"
             ],
             [
              0.6666666666666666,
              "#ed7953"
             ],
             [
              0.7777777777777778,
              "#fb9f3a"
             ],
             [
              0.8888888888888888,
              "#fdca26"
             ],
             [
              1,
              "#f0f921"
             ]
            ],
            "type": "surface"
           }
          ],
          "table": [
           {
            "cells": {
             "fill": {
              "color": "#EBF0F8"
             },
             "line": {
              "color": "white"
             }
            },
            "header": {
             "fill": {
              "color": "#C8D4E3"
             },
             "line": {
              "color": "white"
             }
            },
            "type": "table"
           }
          ]
         },
         "layout": {
          "annotationdefaults": {
           "arrowcolor": "#2a3f5f",
           "arrowhead": 0,
           "arrowwidth": 1
          },
          "autotypenumbers": "strict",
          "coloraxis": {
           "colorbar": {
            "outlinewidth": 0,
            "ticks": ""
           }
          },
          "colorscale": {
           "diverging": [
            [
             0,
             "#8e0152"
            ],
            [
             0.1,
             "#c51b7d"
            ],
            [
             0.2,
             "#de77ae"
            ],
            [
             0.3,
             "#f1b6da"
            ],
            [
             0.4,
             "#fde0ef"
            ],
            [
             0.5,
             "#f7f7f7"
            ],
            [
             0.6,
             "#e6f5d0"
            ],
            [
             0.7,
             "#b8e186"
            ],
            [
             0.8,
             "#7fbc41"
            ],
            [
             0.9,
             "#4d9221"
            ],
            [
             1,
             "#276419"
            ]
           ],
           "sequential": [
            [
             0,
             "#0d0887"
            ],
            [
             0.1111111111111111,
             "#46039f"
            ],
            [
             0.2222222222222222,
             "#7201a8"
            ],
            [
             0.3333333333333333,
             "#9c179e"
            ],
            [
             0.4444444444444444,
             "#bd3786"
            ],
            [
             0.5555555555555556,
             "#d8576b"
            ],
            [
             0.6666666666666666,
             "#ed7953"
            ],
            [
             0.7777777777777778,
             "#fb9f3a"
            ],
            [
             0.8888888888888888,
             "#fdca26"
            ],
            [
             1,
             "#f0f921"
            ]
           ],
           "sequentialminus": [
            [
             0,
             "#0d0887"
            ],
            [
             0.1111111111111111,
             "#46039f"
            ],
            [
             0.2222222222222222,
             "#7201a8"
            ],
            [
             0.3333333333333333,
             "#9c179e"
            ],
            [
             0.4444444444444444,
             "#bd3786"
            ],
            [
             0.5555555555555556,
             "#d8576b"
            ],
            [
             0.6666666666666666,
             "#ed7953"
            ],
            [
             0.7777777777777778,
             "#fb9f3a"
            ],
            [
             0.8888888888888888,
             "#fdca26"
            ],
            [
             1,
             "#f0f921"
            ]
           ]
          },
          "colorway": [
           "#636efa",
           "#EF553B",
           "#00cc96",
           "#ab63fa",
           "#FFA15A",
           "#19d3f3",
           "#FF6692",
           "#B6E880",
           "#FF97FF",
           "#FECB52"
          ],
          "font": {
           "color": "#2a3f5f"
          },
          "geo": {
           "bgcolor": "white",
           "lakecolor": "white",
           "landcolor": "#E5ECF6",
           "showlakes": true,
           "showland": true,
           "subunitcolor": "white"
          },
          "hoverlabel": {
           "align": "left"
          },
          "hovermode": "closest",
          "mapbox": {
           "style": "light"
          },
          "paper_bgcolor": "white",
          "plot_bgcolor": "#E5ECF6",
          "polar": {
           "angularaxis": {
            "gridcolor": "white",
            "linecolor": "white",
            "ticks": ""
           },
           "bgcolor": "#E5ECF6",
           "radialaxis": {
            "gridcolor": "white",
            "linecolor": "white",
            "ticks": ""
           }
          },
          "scene": {
           "xaxis": {
            "backgroundcolor": "#E5ECF6",
            "gridcolor": "white",
            "gridwidth": 2,
            "linecolor": "white",
            "showbackground": true,
            "ticks": "",
            "zerolinecolor": "white"
           },
           "yaxis": {
            "backgroundcolor": "#E5ECF6",
            "gridcolor": "white",
            "gridwidth": 2,
            "linecolor": "white",
            "showbackground": true,
            "ticks": "",
            "zerolinecolor": "white"
           },
           "zaxis": {
            "backgroundcolor": "#E5ECF6",
            "gridcolor": "white",
            "gridwidth": 2,
            "linecolor": "white",
            "showbackground": true,
            "ticks": "",
            "zerolinecolor": "white"
           }
          },
          "shapedefaults": {
           "line": {
            "color": "#2a3f5f"
           }
          },
          "ternary": {
           "aaxis": {
            "gridcolor": "white",
            "linecolor": "white",
            "ticks": ""
           },
           "baxis": {
            "gridcolor": "white",
            "linecolor": "white",
            "ticks": ""
           },
           "bgcolor": "#E5ECF6",
           "caxis": {
            "gridcolor": "white",
            "linecolor": "white",
            "ticks": ""
           }
          },
          "title": {
           "x": 0.05
          },
          "xaxis": {
           "automargin": true,
           "gridcolor": "white",
           "linecolor": "white",
           "ticks": "",
           "title": {
            "standoff": 15
           },
           "zerolinecolor": "white",
           "zerolinewidth": 2
          },
          "yaxis": {
           "automargin": true,
           "gridcolor": "white",
           "linecolor": "white",
           "ticks": "",
           "title": {
            "standoff": 15
           },
           "zerolinecolor": "white",
           "zerolinewidth": 2
          }
         }
        },
        "xaxis": {
         "anchor": "y",
         "domain": [
          0,
          1
         ],
         "title": {
          "text": "scores"
         }
        },
        "yaxis": {
         "anchor": "x",
         "domain": [
          0,
          1
         ],
         "title": {
          "text": "count"
         }
        }
       }
      }
     },
     "metadata": {},
     "output_type": "display_data"
    }
   ],
   "source": [
    "import plotly.express as px\n",
    "\n",
    "fig = px.histogram(df, x=\"scores\")\n",
    "fig.show()"
   ]
  },
  {
   "cell_type": "code",
   "execution_count": null,
   "metadata": {},
   "outputs": [],
   "source": []
  }
 ],
 "metadata": {
  "kernelspec": {
   "display_name": ".venv",
   "language": "python",
   "name": "python3"
  },
  "language_info": {
   "codemirror_mode": {
    "name": "ipython",
    "version": 3
   },
   "file_extension": ".py",
   "mimetype": "text/x-python",
   "name": "python",
   "nbconvert_exporter": "python",
   "pygments_lexer": "ipython3",
   "version": "3.10.12"
  }
 },
 "nbformat": 4,
 "nbformat_minor": 2
}
