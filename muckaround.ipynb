{
 "cells": [
  {
   "cell_type": "code",
   "execution_count": 17,
   "metadata": {},
   "outputs": [
    {
     "name": "stdout",
     "output_type": "stream",
     "text": [
      "Similarity Score: 1.0\n"
     ]
    }
   ],
   "source": [
    "import numpy as np\n",
    "from PIL import Image\n",
    "import math as m\n",
    "\n",
    "def compare_image(photoOne: str, photoTwo: str, downSamplePercentage: float = 1) -> float:\n",
    "    A = Image.open(photoOne)\n",
    "    A = A.resize((int(A.width * downSamplePercentage), int(A.height * downSamplePercentage)))\n",
    "    A = np.array(A).flatten().astype(np.float64)\n",
    "\n",
    "    B = Image.open(photoTwo)\n",
    "    B = B.resize((int(B.width * downSamplePercentage), int(B.height * downSamplePercentage)))\n",
    "    B = np.array(B).flatten().astype(np.float64)\n",
    "\n",
    "    bottom = m.sqrt(np.dot(A,A))*m.sqrt(np.dot(B,B))\n",
    "    similarity = np.dot(A,B)/(bottom)\n",
    "\n",
    "    return similarity\n"
   ]
  },
  {
   "cell_type": "code",
   "execution_count": null,
   "metadata": {},
   "outputs": [],
   "source": [
    "import os\n",
    "\n",
    "# Specify the directory path\n",
    "directory = '/path/to/your/directory'\n",
    "\n",
    "# Walk through the directory\n",
    "for root, dirs, files in os.walk(directory):\n",
    "  for file in files:\n",
    "    # Process each file\n",
    "    print(os.path.join(root, file))\n"
   ]
  }
 ],
 "metadata": {
  "kernelspec": {
   "display_name": ".venv",
   "language": "python",
   "name": "python3"
  },
  "language_info": {
   "codemirror_mode": {
    "name": "ipython",
    "version": 3
   },
   "file_extension": ".py",
   "mimetype": "text/x-python",
   "name": "python",
   "nbconvert_exporter": "python",
   "pygments_lexer": "ipython3",
   "version": "3.10.12"
  }
 },
 "nbformat": 4,
 "nbformat_minor": 2
}
