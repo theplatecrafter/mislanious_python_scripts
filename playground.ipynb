{
 "cells": [
  {
   "cell_type": "markdown",
   "metadata": {},
   "source": [
    "initial import"
   ]
  },
  {
   "cell_type": "code",
   "execution_count": 2,
   "metadata": {},
   "outputs": [],
   "source": [
    "import time_capsule_handler.main as tch\n",
    "import random_functions.main as rf"
   ]
  },
  {
   "cell_type": "markdown",
   "metadata": {},
   "source": [
    "grid_double_pendulum_simulation"
   ]
  },
  {
   "cell_type": "code",
   "execution_count": null,
   "metadata": {},
   "outputs": [],
   "source": [
    "rf.grid_double_pendulum_simulation([rf.math.pi/4,rf.math.pi/4*3],rf.math.pi/24,[rf.math.pi/4,rf.math.pi/4*3],rf.math.pi/24)"
   ]
  },
  {
   "cell_type": "markdown",
   "metadata": {},
   "source": [
    "double_pendulum_simulation"
   ]
  },
  {
   "cell_type": "code",
   "execution_count": null,
   "metadata": {},
   "outputs": [],
   "source": [
    "# Example usage\n",
    "rf.double_pendulum_simulation(\n",
    "    screen_size=200,\n",
    "    theta1_range=[rf.math.pi / 4, 3 * rf.math.pi / 4],\n",
    "    theta2_range=[rf.math.pi / 4, 3 * rf.math.pi / 4]\n",
    ")"
   ]
  },
  {
   "cell_type": "markdown",
   "metadata": {},
   "source": [
    "face recognition"
   ]
  },
  {
   "cell_type": "code",
   "execution_count": null,
   "metadata": {},
   "outputs": [],
   "source": [
    "out = rf.group_images_by_faces([i for i in rf.get_all_file_paths(\"data\") if rf.get_file_type(i) == \"image\"])\n",
    "\n",
    "for i in out:\n",
    "  rf.copy_multiple_files(out[i],f\"output/face_recog/{i}\")"
   ]
  }
 ],
 "metadata": {
  "kernelspec": {
   "display_name": ".venv",
   "language": "python",
   "name": "python3"
  },
  "language_info": {
   "codemirror_mode": {
    "name": "ipython",
    "version": 3
   },
   "file_extension": ".py",
   "mimetype": "text/x-python",
   "name": "python",
   "nbconvert_exporter": "python",
   "pygments_lexer": "ipython3",
   "version": "3.10.12"
  }
 },
 "nbformat": 4,
 "nbformat_minor": 2
}
