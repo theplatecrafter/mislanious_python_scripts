{
 "cells": [
  {
   "cell_type": "markdown",
   "metadata": {},
   "source": [
    "initial import"
   ]
  },
  {
   "cell_type": "code",
   "execution_count": 2,
   "metadata": {},
   "outputs": [],
   "source": [
    "import time_capsule_handler.main as tch\n",
    "import random_functions.main as rf"
   ]
  },
  {
   "cell_type": "markdown",
   "metadata": {},
   "source": [
    "grid_double_pendulum_simulation"
   ]
  },
  {
   "cell_type": "code",
   "execution_count": null,
   "metadata": {},
   "outputs": [],
   "source": [
    "rf.grid_double_pendulum_simulation([rf.math.pi/4,rf.math.pi/4*3],rf.math.pi/24,[rf.math.pi/4,rf.math.pi/4*3],rf.math.pi/24)"
   ]
  },
  {
   "cell_type": "markdown",
   "metadata": {},
   "source": [
    "double_pendulum_simulation"
   ]
  },
  {
   "cell_type": "code",
   "execution_count": null,
   "metadata": {},
   "outputs": [],
   "source": [
    "# Example usage\n",
    "rf.double_pendulum_simulation(\n",
    "    screen_size=200,\n",
    "    theta1_range=[rf.math.pi / 4, 3 * rf.math.pi / 4],\n",
    "    theta2_range=[rf.math.pi / 4, 3 * rf.math.pi / 4]\n",
    ")"
   ]
  },
  {
   "cell_type": "markdown",
   "metadata": {},
   "source": [
    "face recognition"
   ]
  },
  {
   "cell_type": "code",
   "execution_count": null,
   "metadata": {},
   "outputs": [],
   "source": [
    "out = rf.group_images_by_faces([i for i in rf.get_all_file_paths(\"data\") if rf.get_file_type(i) == \"image\"])\n",
    "\n",
    "for i in out:\n",
    "  rf.copy_multiple_files(out[i],f\"output/face_recog/{i}\")"
   ]
  },
  {
   "cell_type": "markdown",
   "metadata": {},
   "source": [
    "get random files and open them"
   ]
  },
  {
   "cell_type": "code",
   "execution_count": 4,
   "metadata": {},
   "outputs": [
    {
     "name": "stdout",
     "output_type": "stream",
     "text": [
      "/mnt/e/6) 2023/2023-5-26 体育祭/写真部が撮った写真/DSC_0931.JPG\n",
      "/mnt/e/6) 2023/2023-11-8　修学旅行/他の人がとった写真/LINE_ALBUM_修学旅行_241114_24.jpg\n",
      "/mnt/e/6) 2023/2023-4-26 first time in America/2023-5-3 8th day/DSC_0312.JPG\n",
      "/mnt/e/6) 2023/2023-8-19 白馬/Evergreen Japan Alps summer camp/2023-8-21 1st day (evening)/P8210028.jpg\n",
      "/mnt/e/6) 2023/2023-5-26 体育祭/写真部が撮った写真/DSC_0290.JPG\n",
      "/mnt/e/7) 2024/other/2024-1-31 frankin-デコポン/PXL_20240131_045848868.jpg\n",
      "/mnt/e/7) 2024/2024-9-14 Himonya Matsuri with Shirai/PXL_20240914_100846748.jpg\n",
      "/mnt/e/6) 2023/2023-12-2 Jiji's/2023-12-3 2nd day/PXL_20231203_071122218.jpg\n",
      "/mnt/e/7) 2024/other/2024-4-7 lets MaKe SoMeThInG ((types in makee))/PXL_20240406_205239079.jpg\n",
      "/mnt/e/7) 2024/other/2024-3-17 rinko trip to 旭、千葉（打ち上げ花火聖地）/PXL_20240317_052618834.jpg\n",
      "/mnt/e/6) 2023/other/2023-11-26 のんのんびより school/PXL_20231126_030134223.jpg\n",
      "/mnt/e/6) 2023/other/2023-12-10 rinko to some holes in 横須賀/PXL_20231210_062709326.jpg\n",
      "/mnt/e/6) 2023/2023-4-26 first time in America/2023-5-3 8th day/DSC_0213.JPG\n",
      "/mnt/e/7) 2024/2024-10-25 eat out with friends at くら寿司/from Line album/LINE_ALBUM_20241025_241028_36.jpg\n",
      "/mnt/e/6) 2023/2023-8-19 白馬/Evergreen Japan Alps summer camp/2023-8-23 3rd day/IMG_3691.jpg\n",
      "/mnt/e/7) 2024/other/2024-2-9 alright, now try solveing THIS/PXL_20240209_045347114.jpg\n",
      "/mnt/e/6) 2023/2023-11-8　修学旅行/他の人がとった写真/LINE_ALBUM_修学旅行_241114_112.jpg\n",
      "/mnt/e/6) 2023/other/2023-5-28 目黒不動尊 with friend/PXL_20230528_111502775.NIGHT.jpg\n",
      "/mnt/e/7) 2024/2024-5-31 体育祭/from everyone/LINE_ALBUM_体育祭 2024531(金) +α_240608_123.jpg\n",
      "/mnt/e/7) 2024/2024-5-31 体育祭/from 写真部/他/IMG_1602.JPG\n",
      "/mnt/e/6) 2023/2023-11-8　修学旅行/2023-11-9　２日目/PXL_20231109_024521186.jpg\n",
      "/mnt/e/6) 2023/other/2023-11-19 cycle to 吉祥寺/PXL_20231119_045040508.jpg\n",
      "/mnt/e/6) 2023/2023-5-26 体育祭/写真部が撮った写真/DSC_0005.JPG\n",
      "/mnt/e/6) 2023/2023-11-8　修学旅行/他の人がとった写真/LINE_ALBUM_修学旅行_241114_468.jpg\n",
      "/mnt/e/7) 2024/other/2024-6-2 cycling in the rain with family/PXL_20240602_040607736.jpg\n",
      "/mnt/e/6) 2023/2023-5-26 体育祭/写真部が撮った写真/DSC_0853.JPG\n",
      "/mnt/e/7) 2024/2024-5-31 体育祭/from 写真部/色別リレー（全部）/_DSC0759.jpg\n",
      "/mnt/e/6) 2023/other/2023-11-28 this is what the inside of a fan looked like in the old days/PXL_20231128_022115701.jpg\n",
      "/mnt/e/7) 2024/2024-5-31 体育祭/from 写真部/他/_DSC0194.jpg\n",
      "/mnt/e/6) 2023/2023-8-19 白馬/Evergreen Japan Alps summer camp/2023-8-21 1st day (evening)/P8210001.jpg\n",
      "/mnt/e/6) 2023/2023-8-19 白馬/Evergreen Japan Alps summer camp/2023-8-21 1st day (evening)/P8210085.jpg\n",
      "/mnt/e/7) 2024/other/2024-2-6 over 3000 degrees fire and 0 degrees snow/PXL_20240206_000012083.jpg\n",
      "/mnt/e/7) 2024/2024-5-26 cycling 93km to 松戸市 for 古賀's house/PXL_20240526_030348662.jpg\n",
      "/mnt/e/7) 2024/2024-8 仙台に一人旅！/2024-8-17 ２日目/PXL_20240816_235606309.jpg\n",
      "/mnt/e/7) 2024/2024-3&4 Susan's birthdays/2024-4-5 Susan's main birthday 助っ人/_Y9A4328.jpg\n",
      "/mnt/e/6) 2023/2023-8-19 白馬/Evergreen Japan Alps summer camp/2023-8-25 5th day/GOPR4257.jpg\n",
      "/mnt/e/6) 2023/2023-8-19 白馬/Evergreen Japan Alps summer camp/2023-8-25 5th day/GOPR4519.jpg\n",
      "/mnt/e/7) 2024/2024-5-31 体育祭/from 写真部/他/_DSC0051.jpg\n",
      "/mnt/e/6) 2023/2023-11-8　修学旅行/他の人がとった写真/LINE_ALBUM_修学旅行_241114_64.jpg\n",
      "/mnt/e/6) 2023/other/2023-12-25 even more tamagawa shizz on christmas/PXL_20231225_054258021.jpg\n",
      "/mnt/e/6) 2023/2023-8-19 白馬/Evergreen Japan Alps summer camp/2023-8-25 5th day/G0104534.jpg\n",
      "/mnt/e/7) 2024/2024-10 文化祭（永遠に最後の弟燕祭）/みんなが撮った写真/S__72957960_0.jpg\n",
      "/mnt/e/6) 2023/2023-4-26 first time in America/2023-5-3 8th day/DSC_0241.JPG\n",
      "/mnt/e/7) 2024/2024-5-31 体育祭/from 写真部/他/IMG_9165.jpg\n",
      "/mnt/e/7) 2024/2024-5-31 体育祭/from 写真部/他/_DSC0291.jpg\n",
      "/mnt/e/7) 2024/2024-5-4 cycling 127km to 横須賀 and cycling with my 横須賀田舎 friend/PXL_20240504_091312337.jpg\n",
      "/mnt/e/7) 2024/other/2024-4-14 いりいん家突りに/PXL_20240414_045755055.jpg\n",
      "/mnt/e/7) 2024/other/2024-5-7 good ol break-to-light toys/DSC_0776.JPG\n",
      "/mnt/e/6) 2023/2023-7-16 祐天寺　盆踊り祭り/2023-7-18 ３日目/PXL_20230718_114059121.NIGHT.jpg\n",
      "/mnt/e/6) 2023/2023-5-26 体育祭/写真部が撮った写真/DSC_0783.JPG\n"
     ]
    }
   ],
   "source": [
    "for i in rf.getRandomFiles([\"/mnt/e/7) 2024\",\"/mnt/e/6) 2023\"],\"image\",50):\n",
    "    print(i)"
   ]
  }
 ],
 "metadata": {
  "kernelspec": {
   "display_name": ".venv",
   "language": "python",
   "name": "python3"
  },
  "language_info": {
   "codemirror_mode": {
    "name": "ipython",
    "version": 3
   },
   "file_extension": ".py",
   "mimetype": "text/x-python",
   "name": "python",
   "nbconvert_exporter": "python",
   "pygments_lexer": "ipython3",
   "version": "3.10.12"
  }
 },
 "nbformat": 4,
 "nbformat_minor": 2
}
